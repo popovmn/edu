{
 "cells": [
  {
   "cell_type": "markdown",
   "metadata": {},
   "source": [
    "<img src=\"data:image/jpeg;base64,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\"/>\n",
    "\n",
    "Exercise: Basic Syntax, Conditional Statements and Loops\n",
    "========================================================\n",
    "\n",
    "Problems for exercise and homework for the [<span\n",
    "class=\"underline\">Python Fundamentals Course\n",
    "@SoftUni</span>](https://softuni.bg/trainings/2442/python-fundamentals-september-2019).\n",
    "Submit your solutions in the SoftUni judge system at [<span\n",
    "class=\"underline\">https://judge.softuni.bg/Contests/1719</span>](https://judge.softuni.bg/Contests/1719)\n",
    "\n",
    "1.Jenny's Secret Message\n",
    "==\n",
    "----------------------\n",
    "\n",
    "Jenny studies programming with python and wants to create a program that\n",
    "**greets a user** when he/she gives his/her **name**. Jenny however is\n",
    "in love with **Johnny**, and would like to **greet him differently**.\n",
    "Can you help her?\n",
    "\n",
    "### Examples\n",
    "\n",
    "| **Input** | **Output**          |\n",
    "|-----------|---------------------|\n",
    "| Peter     | **Hello, Peter!**   |\n",
    "| Amy       | **Hello, Amy!**     |\n",
    "| Johnny    | **Hello, my love!** |"
   ]
  },
  {
   "cell_type": "code",
   "execution_count": null,
   "outputs": [],
   "source": [
    "name = input()\n",
    "\n",
    "if name == 'Johnny':\n",
    "    print('Hello, my love!')\n",
    "else:\n",
    "\tprint(f'Hello, {name}!')"
   ],
   "metadata": {
    "collapsed": false,
    "pycharm": {
     "name": "#%%\n"
    }
   }
  },
  {
   "cell_type": "markdown",
   "source": [
    "2.Drink Something\n",
    "==\n",
    "---------------\n",
    "\n",
    "**Kids** drink **toddy**, **Teens** drink **coke**, **Young adults**\n",
    "drink **beer**, **Adults** drink **whisky**.\n",
    "\n",
    "Make a program that receives an age, and returns what they drink.\n",
    "\n",
    "**<span class=\"underline\">Rules:</span>**\n",
    "\n",
    "**Kids** **under 14** years old.\n",
    "\n",
    "**Teens under 18** years old.\n",
    "\n",
    "**Young adults under 21** years old.\n",
    "\n",
    "**Adults above 21**.\n",
    "\n",
    "***<span class=\"underline\">Note:</span>*** All the values except the\n",
    "last one are inclusive!\n",
    "\n",
    "### Examples\n",
    "\n",
    "| **Input** | **Output**       |\n",
    "|-----------|------------------|\n",
    "| 13        | **drink toddy**  |\n",
    "| 17        | **drink coke**   |\n",
    "| 21        | **drink beer**   |\n",
    "| 30        | **drink whisky** |"
   ],
   "metadata": {
    "collapsed": false,
    "pycharm": {
     "name": "#%% md\n"
    }
   }
  },
  {
   "cell_type": "code",
   "execution_count": null,
   "outputs": [],
   "source": [
    "age = int(input())\n",
    "\n",
    "kids = age <= 14\n",
    "teens = age <= 18\n",
    "young_adults = age <= 21\n",
    "adults = age > 21\n",
    "\n",
    "if kids:\n",
    "    print('drink toddy')\n",
    "elif teens:\n",
    "    print('drink coke')\n",
    "elif young_adults:\n",
    "    print('drink beer')\n",
    "elif adults:\n",
    "    print('drink whisky')"
   ],
   "metadata": {
    "collapsed": false,
    "pycharm": {
     "name": "#%%\n"
    }
   }
  },
  {
   "cell_type": "markdown",
   "source": [
    "3.Leonardo DiCaprio Oscars\n",
    "==\n",
    "------------------------\n",
    "\n",
    "Write a program that receives a **single integer** number and prints\n",
    "**different messages** depending on the number:\n",
    "\n",
    "-   If Oscar **is** **88** - **\"Leo finally won the Oscar! Leo is\n",
    "    > happy\".**\n",
    "\n",
    "-   If Oscar **is** **86** - **\"Not even for Wolf of Wall Street?!\"**\n",
    "\n",
    "-   If Oscar is **not** **88** **nor** **86** (and **below 88**) -\n",
    "    > **\"When will you give Leo an Oscar?\"**\n",
    "\n",
    "-   If Oscar is **over 88** - **\"Leo got one already!\"**\n",
    "\n",
    "### Examples\n",
    "\n",
    "| **Input** | **Output**                                  |\n",
    "|-----------|---------------------------------------------|\n",
    "| 88        | **Leo finally won the Oscar! Leo is happy** |\n",
    "| 86        | **Not even for Wolf of Wall Street?!**      |\n",
    "| 81        | **When will you give Leo an Oscar?**        |\n",
    "| 89        | **Leo got one already!**                    |"
   ],
   "metadata": {
    "collapsed": false,
    "pycharm": {
     "name": "#%% md\n"
    }
   }
  },
  {
   "cell_type": "code",
   "execution_count": null,
   "outputs": [],
   "source": [
    "n = int(input())\n",
    "if n == 88:\n",
    "    print('Leo finally won the Oscar! Leo is happy')\n",
    "elif n == 86:\n",
    "    print('Not even for Wolf of Wall Street?!')\n",
    "elif n != 88 and n != 86 and n < 88:\n",
    "    print('When will you give Leo an Oscar?')\n",
    "elif n > 88:\n",
    "    print('Leo got one already!')"
   ],
   "metadata": {
    "collapsed": false,
    "pycharm": {
     "name": "#%%\n"
    }
   }
  },
  {
   "cell_type": "markdown",
   "source": [
    "4.Double Char\n",
    "==\n",
    "-----------\n",
    "\n",
    "Given a string, you have to print a string in which each character\n",
    "(case-sensitive) is repeated.\n",
    "\n",
    "### Examples\n",
    "\n",
    "| **Input**   | **Output**            |\n",
    "|-------------|-----------------------|\n",
    "| Hello World | HHeelllloo WWoorrlldd |\n",
    "| 1234!       | **11223344!!**        |"
   ],
   "metadata": {
    "collapsed": false
   }
  },
  {
   "cell_type": "code",
   "execution_count": null,
   "outputs": [],
   "source": [
    "word = input()\n",
    "doubled_word = ''\n",
    "for i in word:\n",
    "    doubled_word = i + i\n",
    "    print(doubled_word, end='')"
   ],
   "metadata": {
    "collapsed": false,
    "pycharm": {
     "name": "#%%\n"
    }
   }
  },
  {
   "cell_type": "markdown",
   "source": [
    "5.Can't Sleep? Count Sheep\n",
    "==\n",
    "------------------------\n",
    "\n",
    "If you can't sleep, just count sheep! Given a non-negative integer, 3\n",
    "for example, return a string with a murmur: **\"1 sheep...2 sheep...3\n",
    "sheep...\"** Input will always be valid, i.e. no negative integers.\n",
    "\n",
    "### Examples\n",
    "\n",
    "| **Input** | **Output**                                         |\n",
    "|-----------|----------------------------------------------------|\n",
    "| 5         | 1 sheep...2 sheep...3 sheep...4 sheep...5 sheep... |\n",
    "| 1         | **1 sheep...**                                     |"
   ],
   "metadata": {
    "collapsed": false
   }
  },
  {
   "cell_type": "code",
   "execution_count": null,
   "outputs": [],
   "source": [
    "n_sheeps = int(input())\n",
    "for i in range(1, n_sheeps+1):\n",
    "    print(f'{i} sheep...', end='')"
   ],
   "metadata": {
    "collapsed": false,
    "pycharm": {
     "name": "#%%\n"
    }
   }
  },
  {
   "cell_type": "markdown",
   "source": [
    "6.Next Happy Year\n",
    "==\n",
    "---------------\n",
    "\n",
    "You're saying good-bye your best friend, \"***See you next happy\n",
    "year\"***. Happy Year is the year with only **distinct digits**, (e.g)\n",
    "2018. Write a program that receives an integer number and finds the next\n",
    "happy year.\n",
    "\n",
    "### Examples\n",
    "\n",
    "| **Input** | **Output** |\n",
    "|-----------|------------|\n",
    "| 8989      | **9012**   |\n",
    "| 1001      | **1023**   |"
   ],
   "metadata": {
    "collapsed": false
   }
  },
  {
   "cell_type": "code",
   "execution_count": null,
   "outputs": [],
   "source": [
    "def happy_year(num):\n",
    "    string = str(num)\n",
    "    for x in range(len(string)):\n",
    "        for y in string[x + 1:]:\n",
    "            if string[x] == y:\n",
    "                num += 1\n",
    "                return happy_year(num)\n",
    "    return num\n",
    "\n",
    "year = int(input())\n",
    "HAPPY_RESULT = happy_year(year + 1)\n",
    "print(HAPPY_RESULT)"
   ],
   "metadata": {
    "collapsed": false,
    "pycharm": {
     "name": "#%%\n"
    }
   }
  },
  {
   "cell_type": "markdown",
   "source": [
    "7.Maximum Multiple\n",
    "==\n",
    "----------------\n",
    "\n",
    "Given a **Divisor** and a **Bound**, find the largest integer **N**,\n",
    "such that:\n",
    "\n",
    "N is **divisible by divisor**\n",
    "\n",
    "N is **less than or equal to bound**\n",
    "\n",
    "N is **greater than 0**.\n",
    "\n",
    "***<span class=\"underline\">Notes:</span>*** The **divisor** and\n",
    "**bound** are only **positive values**. It's guaranteed that a **divisor\n",
    "is found**\n",
    "\n",
    "### Examples\n",
    "\n",
    "<table>\n",
    "<thead>\n",
    "<tr class=\"header\">\n",
    "<th><strong>Input</strong></th>\n",
    "<th><strong>Output</strong></th>\n",
    "</tr>\n",
    "</thead>\n",
    "<tbody>\n",
    "<tr class=\"odd\">\n",
    "<td><p>2<br>7</p></td>\n",
    "<td><strong>6</strong></td>\n",
    "</tr>\n",
    "<tr class=\"even\">\n",
    "<td><p>10<br>50</p></td>\n",
    "<td><strong>50</strong></td>\n",
    "</tr>\n",
    "<tr class=\"odd\">\n",
    "<td><p>37<br>200</p></td>\n",
    "<td><strong>185</strong></td>\n",
    "</tr>\n",
    "</tbody>\n",
    "</table>"
   ],
   "metadata": {
    "collapsed": false
   }
  },
  {
   "cell_type": "code",
   "execution_count": null,
   "outputs": [],
   "source": [
    "divider = int(input())\n",
    "num_ = int(input())\n",
    "result = 0\n",
    "\n",
    "for i in range(num_, 1, -1):\n",
    "    if i % divider == 0:\n",
    "        result = i\n",
    "        break\n",
    "\n",
    "print(result)"
   ],
   "metadata": {
    "collapsed": false,
    "pycharm": {
     "name": "#%%\n"
    }
   }
  },
  {
   "cell_type": "markdown",
   "source": [
    "\\*8. Mutate Strings\n",
    "==\n",
    "-----------------\n",
    "\n",
    "You will be given **two strings**. **Transform the first** string into\n",
    "**the second** one, **one letter at a time** and **print it.** Print\n",
    "only the **unique** strings\n",
    "\n",
    "***<span class=\"underline\">Note:</span>*** the strings will have the\n",
    "same lengths\n",
    "\n",
    "### Examples\n",
    "\n",
    "<table>\n",
    "<thead>\n",
    "<tr class=\"header\">\n",
    "<th><strong>Input</strong></th>\n",
    "<th><strong>Output</strong></th>\n",
    "</tr>\n",
    "</thead>\n",
    "<tbody>\n",
    "<tr class=\"odd\">\n",
    "<td><p>bubble gum<br>turtle hum</p></td>\n",
    "<td><p><strong>tubble gum</strong></p>\n",
    "<p><strong>turble gum</strong></p>\n",
    "<p><strong>turtle gum</strong></p>\n",
    "<p><strong>turtle hum</strong></p></td>\n",
    "</tr>\n",
    "<tr class=\"even\">\n",
    "<td><p>Kitty<br>Doggy</p></td>\n",
    "<td><p><strong>Ditty</strong></p>\n",
    "<p><strong>Dotty</strong></p>\n",
    "<p><strong>Dogty</strong></p>\n",
    "<p><strong>Doggy</strong></p></td>\n",
    "</tr>\n",
    "</tbody>\n",
    "</table>"
   ],
   "metadata": {
    "collapsed": false
   }
  },
  {
   "cell_type": "code",
   "execution_count": null,
   "outputs": [],
   "source": [],
   "metadata": {
    "collapsed": false,
    "pycharm": {
     "name": "#%%\n"
    }
   }
  },
  {
   "cell_type": "markdown",
   "source": [
    "\\*9. Easter Cozonacs\n",
    "==\n",
    "------------------\n",
    "\n",
    "*Since it’s Easter you have decided to make some cozonacs and exchange\n",
    "them for eggs.*\n",
    "\n",
    "Create a program that **calculates** how much **cozonacs** you can make\n",
    "with the **budget** you **have**. **First**, you will **receive** your\n",
    "**budget**. Then, you will **receive** the **price** for **1 kg flour**.\n",
    "Here is the **recipe** for **one** cozonac:\n",
    "\n",
    "| **Eggs**  | **1 pack**  |\n",
    "|-----------|-------------|\n",
    "| **Flour** | **1 kg**    |\n",
    "| **Milk**  | **0.250 l** |\n",
    "\n",
    "The **price for 1 pack of eggs** is **75%** of the **price** **for 1 kg\n",
    "flour**. The **price** for **1l** **milk** is **25%** **more** than\n",
    "price for **1 kg flour**. Notice, that you need **0.250l milk** for\n",
    "**one** cozonac and the calculated price is for **1l**.\n",
    "\n",
    "**Start** cooking the cozonacs and **keep making** them until you have\n",
    "**enough budget**. Keep in mind that:\n",
    "\n",
    "-   For **every** cozonac that you make, you will receive **3 colored\n",
    "    > eggs**.\n",
    "\n",
    "-   For **every** **3<sup>rd</sup>** cozonac that you make, you will\n",
    "    > lose some of your **colored** eggs **after** you have **received**\n",
    "    > the usual **3 colored eggs** for your cozonac. The count of eggs\n",
    "    > you will lose is calculated when you **subtract** **2** from your\n",
    "    > **current** **count** of **cozonacs** – **({currentCozonacsCount}\n",
    "    > – 2)**\n",
    "\n",
    "In the end, print the cozonacs you made, the eggs you have gathered and\n",
    "the money you have **left**, **formatted** to the **2<sup>nd</sup>\n",
    "decimal place**, in the following format:\n",
    "\n",
    "**\"You made {countOfCozonacs} cozonacs! Now you have {coloredEggs} eggs\n",
    "and {moneyLeft}BGN left.\"**\n",
    "\n",
    "### Input / Constraints\n",
    "\n",
    "-   On the **1<sup>st</sup> line** you will receive the budget – a\n",
    "    > **real number** in the range \\[0.0…100000.0\\]\n",
    "\n",
    "-   On the **2<sup>nd</sup> line** you will receive the price for **1 kg\n",
    "    > flour** – a **real number** in the range \\[0.0…100000.0\\]\n",
    "\n",
    "-   The input will always be in the right format.\n",
    "\n",
    "-   You will **always** have a **remaining** **budget**.\n",
    "\n",
    "-   There will **not** be a case in which the **eggs** become a\n",
    "    > **negative** **count**.\n",
    "\n",
    "### Output\n",
    "\n",
    "-   In the end print the **count** of **cozonacs** you have made, the\n",
    "    > colored **eggs** you have gathered and the **money** **formatted**\n",
    "    > to **the 2<sup>nd</sup>** decimal place in the format described\n",
    "    > above.\n",
    "\n",
    "### Examples\n",
    "\n",
    "<table>\n",
    "<tbody>\n",
    "<tr class=\"odd\">\n",
    "<td><strong>Input</strong></td>\n",
    "<td><strong>Output</strong></td>\n",
    "</tr>\n",
    "<tr class=\"even\">\n",
    "<td><p>20.50<br>1.25</p></td>\n",
    "<td>You made 7 cozonacs! Now you have 16 eggs and 2.45BGN left.</td>\n",
    "</tr>\n",
    "<tr class=\"odd\">\n",
    "<td><strong>Comments</strong></td>\n",
    "<td></td>\n",
    "</tr>\n",
    "<tr class=\"even\">\n",
    "<td><p>We start by calculating the price for a <strong>pack of eggs</strong>, which is <strong>75%</strong> of the price for <strong>1 kg</strong> floor, which in this case is <strong>1.25</strong>. The pack of eggs price is <strong>0.9375</strong>. The price for <strong>1l milk</strong> is <strong>25%</strong> more than the price for <strong>1kg</strong> floor and in this case it is – <strong>1.5625</strong>, but we need the price for 0.250ml, which is - <strong>0.390625</strong>. The total price for one cozonac is:</p>\n",
    "<p><strong>1.25</strong> + <strong>0.9375 + 0.390625</strong> = <strong>2.578125</strong>.</p>\n",
    "<p>And we start subtracting the <strong>price</strong> for a <strong>single</strong> cozonac <strong>from the budget</strong>, and <strong>for every cozonac</strong> we receive <strong>3</strong> eggs. So after the first <strong>subtraction</strong> we will have <strong>17.921875</strong> budget, <strong>1</strong> cozonac and <strong>3</strong> eggs. After the second <strong>- 15.34375</strong> budget, <strong>6</strong> eggs, and on the <strong>third</strong> - <strong>12.765625 budget</strong> and <strong>9 eggs</strong> and since it’s the <strong>third</strong>, we need to <strong>subtract</strong> the <strong>lost eggs</strong>, which will be 3 – 2 = <strong>1</strong>, so we subtract 1 from 9 and our <strong>eggs</strong> become <strong>8</strong>. We continue <strong>subtracting</strong> money from the <strong>budget</strong> until the money <strong>aren't enough</strong> for us to make a cozonac. In the end we have 2.45BGN left.</p></td>\n",
    "<td></td>\n",
    "</tr>\n",
    "<tr class=\"odd\">\n",
    "<td></td>\n",
    "<td></td>\n",
    "</tr>\n",
    "<tr class=\"even\">\n",
    "<td><p>15.75<br>1.4</p></td>\n",
    "<td>You made 5 cozonacs! Now you have 14 eggs and 1.31BGN left.</td>\n",
    "</tr>\n",
    "</tbody>\n",
    "</table>"
   ],
   "metadata": {
    "collapsed": false
   }
  },
  {
   "cell_type": "code",
   "execution_count": null,
   "outputs": [],
   "source": [],
   "metadata": {
    "collapsed": false,
    "pycharm": {
     "name": "#%%\n"
    }
   }
  },
  {
   "cell_type": "markdown",
   "source": [
    "\\*10. Christmas Spirit\n",
    "==\n",
    "-------------------\n",
    "\n",
    "*It's time to get in a Christmas mood. You have to decorate the house in\n",
    "time for the big event, but you have limited days to do so.*\n",
    "\n",
    "You will receive **allowed quantity** for **one type** of decoration and\n",
    "**days** left until Christmas day to decorate the house.\n",
    "\n",
    "There are **4 types** of decorations and each piece costs a **price**\n",
    "\n",
    "-   Ornament Set – 2\\$ a piece\n",
    "\n",
    "-   Tree Skirt – 5\\$ a piece\n",
    "\n",
    "-   Tree Garlands – 3\\$ a piece\n",
    "\n",
    "-   Tree Lights – 15\\$ a piece\n",
    "\n",
    "Every **second day** you buy an **Ornament Set** quantity of times and\n",
    "**increase** your Christmas spirit by **5**.\n",
    "\n",
    "Every **third day** you buy **Tree Skirts** and **Tree Garlands** (both\n",
    "quantity of times) and **increase** your spirit by **13**.\n",
    "\n",
    "Every **fifth day** you buy **Tree Lights** quantity of times and\n",
    "**increase** your Christmas spirit by **17**. If you have bought Tree\n",
    "Skirts and Tree Garlands at the **same day** you **additionally\n",
    "increase** your spirit by **30**.\n",
    "\n",
    "Every **tenth day** you **lose 20 spirit**, because your cat ruins all\n",
    "tree decorations and you have to rebuild the tree and buy **one** piece\n",
    "of tree **skirt**, **garlands** and **lights**. That is why you are\n",
    "forced to **increase** the allowed **quantity with 2** at the\n",
    "**beginning** of every **eleventh day**.\n",
    "\n",
    "Also if the **last day** is a **tenth day** the cat decides to demolish\n",
    "even more and ruins the Christmas turkey and you **lose** additional\n",
    "**30 spirit**.\n",
    "\n",
    "At the end you must print the **total cost** and the **gained spirit**.\n",
    "\n",
    "### Input / Constraints\n",
    "\n",
    "The input will consist of **exactly 2 lines**:\n",
    "\n",
    "-   quantity – **integer in range \\[1…100\\]**\n",
    "\n",
    "-   days **– integer in range \\[1…100\\]**\n",
    "\n",
    "### Output\n",
    "\n",
    "At the end print the **total cost** and the total gained **spirit** in\n",
    "the following format:\n",
    "\n",
    "-   **\"Total cost: {budget}\"**\n",
    "\n",
    "-   **\"Total spirit: {totalSpirit}\"**\n",
    "\n",
    "### Examples\n",
    "\n",
    "<table>\n",
    "<thead>\n",
    "<tr class=\"header\">\n",
    "<th><strong>Input</strong></th>\n",
    "<th><strong>Output</strong></th>\n",
    "</tr>\n",
    "</thead>\n",
    "<tbody>\n",
    "<tr class=\"odd\">\n",
    "<td><p>1<br>7</p></td>\n",
    "<td><p>Total cost: 37</p>\n",
    "<p>Total spirit: 58</p></td>\n",
    "</tr>\n",
    "<tr class=\"even\">\n",
    "<td><strong>Input</strong></td>\n",
    "<td><strong>Output</strong></td>\n",
    "</tr>\n",
    "<tr class=\"odd\">\n",
    "<td><p>3<br>20</p></td>\n",
    "<td><p>Total cost: 558</p>\n",
    "<p>Total spirit: 156</p></td>\n",
    "</tr>\n",
    "</tbody>\n",
    "</table>"
   ],
   "metadata": {
    "collapsed": false
   }
  },
  {
   "cell_type": "code",
   "execution_count": null,
   "outputs": [],
   "source": [],
   "metadata": {
    "collapsed": false,
    "pycharm": {
     "name": "#%%\n"
    }
   }
  }
 ],
 "nbformat": 4,
 "nbformat_minor": 5,
 "metadata": {
  "kernelspec": {
   "name": "python3",
   "language": "python",
   "display_name": "Python 3"
  }
 }
}