{
 "cells": [
  {
   "cell_type": "markdown",
   "metadata": {},
   "source": [
    "<img src=\"data:image/jpeg;base64,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\"/>\n",
    "\n",
    "Exercise: Classes and Objects\n",
    "=============================\n",
    "\n",
    "Problems for exercise and homework for the [<span\n",
    "class=\"underline\">Python Fundamentals Course\n",
    "@SoftUni</span>](https://softuni.bg/trainings/2442/python-fundamentals-september-2019).\n",
    "Submit your solutions in the SoftUni judge system at [<span\n",
    "class=\"underline\">https://judge.softuni.bg/Contests/1734</span>](https://judge.softuni.bg/Contests/1734)\n",
    "\n",
    "***<span class=\"underline\">Note: Submit only the classes in the judge\n",
    "system for all tasks. Test your classes with your own code to see if\n",
    "they work properly.</span>***\n",
    "\n",
    "1.Storage\n",
    "==\n",
    "-------\n",
    "\n",
    "Create a **class Storage**. The **\\_\\_init\\_\\_** method should accept\n",
    "**one parameter**: the **capacity** of the storage. The Storage class\n",
    "should also have an attribute called **storage**, where all the items\n",
    "will be stored. The class should have two additional methods:\n",
    "\n",
    "-   **add\\_product(product)** - adds the product in the storage **if\n",
    "    there is space** for it\n",
    "\n",
    "-   **get\\_products()** - returns the storage list\n",
    "\n",
    "### Example\n",
    "\n",
    "<table>\n",
    "<thead>\n",
    "<tr class=\"header\">\n",
    "<th><strong>Test Code</strong></th>\n",
    "<th><strong>Output</strong></th>\n",
    "</tr>\n",
    "</thead>\n",
    "<tbody>\n",
    "<tr class=\"odd\">\n",
    "\n",
    "<td><p>storage = Storage(4)<br>storage.add_product(\"apple\")<br>storage.add_product(\"banana\")<br>storage.add_product(\"potato\")<br>storage.add_product(\"tomato\")<br>storage.add_product(\"bread\")<br>print(storage.get_products())</p></td>\n",
    "\n",
    "<td><strong>['apple', 'banana', 'potato', 'tomato']</strong></td>\n",
    "</tr>\n",
    "</tbody>\n",
    "</table>"
   ]
  },
  {
   "cell_type": "code",
   "execution_count": null,
   "outputs": [],
   "source": [],
   "metadata": {
    "collapsed": false,
    "pycharm": {
     "name": "#%%\n"
    }
   }
  },
  {
   "cell_type": "markdown",
   "source": [
    "2.Weapon\n",
    "==\n",
    "------\n",
    "\n",
    "Create a **class Weapon**. The **\\_\\_init\\_\\_** method should receive an\n",
    "amount of **bullets** (**integer**). Create an attribute called\n",
    "**bullets**, to store them. The class should also have the following\n",
    "methods:\n",
    "\n",
    "-   **shoot()** - if there are bullets in the weapon, **reduce** them\n",
    "    **by 1** and return a message **\"shooting…\"**. If there are **no\n",
    "    bullets** left, return: **\"no bullets left\"**\n",
    "\n",
    "You should also override the **toString** method, so that the following\n",
    "code: **print(weapon)** should work. To do that define a\n",
    "**\\_\\_repr\\_\\_** method that returns **\"Remaining bullets:\n",
    "{amount\\_of\\_bullets}\"**. You can read more about the **\\_\\_repr\\_\\_**\n",
    "method here: [<span\n",
    "class=\"underline\">link</span>](https://www.journaldev.com/22460/python-str-repr-functions)\n",
    "\n",
    "### Example\n",
    "\n",
    "<table>\n",
    "<thead>\n",
    "<tr class=\"header\">\n",
    "<th><strong>Test Code</strong></th>\n",
    "<th><strong>Output</strong></th>\n",
    "</tr>\n",
    "</thead>\n",
    "<tbody>\n",
    "<tr class=\"odd\">\n",
    "\n",
    "<td><p>weapon = Weapon(5)<br>weapon.shoot()<br>weapon.shoot()<br>weapon.shoot()<br>weapon.shoot()<br>weapon.shoot()<br>weapon.shoot()<br>print(weapon)</p></td>\n",
    "\n",
    "<td><strong>Remaining bullets: 0</strong></td>\n",
    "</tr>\n",
    "</tbody>\n",
    "</table>"
   ],
   "metadata": {
    "collapsed": false,
    "pycharm": {
     "name": "#%% md\n"
    }
   }
  },
  {
   "cell_type": "code",
   "execution_count": null,
   "outputs": [],
   "source": [],
   "metadata": {
    "collapsed": false,
    "pycharm": {
     "name": "#%%\n"
    }
   }
  },
  {
   "cell_type": "markdown",
   "source": [
    "3.Catalogue\n",
    "==\n",
    "---------\n",
    "\n",
    "Create a **class Catalogue**. The **\\_\\_init\\_\\_** method should accept\n",
    "the **name** of the catalogue. Each catalogue should also have an\n",
    "**attribute** called **products** and it should be a **list**. The class\n",
    "should also have **three more methods**:\n",
    "\n",
    "-   **add\\_product(product)** - add the product to the product list\n",
    "\n",
    "-   **get\\_by\\_letter(first\\_letter)** - returns a list containing only\n",
    "    the products that start with the given letter\n",
    "\n",
    "-   **\\_\\_repr\\_\\_** - returns the catalogue info in the following\n",
    "    format:  \n",
    "    **\"Items in the {name} catalogue:  \n",
    "    {item1}  \n",
    "    {item2}  \n",
    "    …**\"  \n",
    "    The items should be **sorted alphabetically** (default sorting)\n",
    "\n",
    "### Example\n",
    "\n",
    "<table>\n",
    "<thead>\n",
    "<tr class=\"header\">\n",
    "<th><strong>Test Code</strong></th>\n",
    "<th><strong>Output</strong></th>\n",
    "</tr>\n",
    "</thead>\n",
    "<tbody>\n",
    "<tr class=\"odd\">\n",
    "\n",
    "<td><p>catalogue = Catalogue(\"Furniture\")<br>catalogue.add_product(\"Sofa\")<br>catalogue.add_product(\"Mirror\")<br>catalogue.add_product(\"Desk\")<br>catalogue.add_product(\"Chair\")<br>catalogue.add_product(\"Carpet\")<br>print(catalogue.get_by_letter(\"C\"))<br>print(catalogue)</p></td>\n",
    "\n",
    "<td><p><strong>['Chair', 'Carpet']</strong></p>\n",
    "<p><strong>Items in the Furniture catalogue:</strong></p>\n",
    "<p><strong>Carpet</strong></p>\n",
    "<p><strong>Chair</strong></p>\n",
    "<p><strong>Desk</strong></p>\n",
    "<p><strong>Mirror</strong></p>\n",
    "<p><strong>Sofa</strong></p></td>\n",
    "</tr>\n",
    "</tbody>\n",
    "</table>"
   ],
   "metadata": {
    "collapsed": false
   }
  },
  {
   "cell_type": "code",
   "execution_count": null,
   "outputs": [],
   "source": [],
   "metadata": {
    "collapsed": false,
    "pycharm": {
     "name": "#%%\n"
    }
   }
  },
  {
   "cell_type": "markdown",
   "source": [
    "4.Town\n",
    "==\n",
    "----\n",
    "\n",
    "Create a **class Town**. The **\\_\\_init\\_\\_** method should receive the\n",
    "**name** of the town. It should also have **3 more methods**:\n",
    "\n",
    "-   **set\\_latitude(latitude)** - set an attribute called latitude to\n",
    "    the given one\n",
    "\n",
    "-   **set\\_longitude(longitude)** - set an attribute called longitude to\n",
    "    the given one\n",
    "\n",
    "-   **\\_\\_repr\\_\\_** - return representation of the object in the\n",
    "    following string format:  \n",
    "    **\"Town: {name} \\| Latitude: {latitude} \\| Longitude: {longitude}\"**\n",
    "\n",
    "### Example\n",
    "\n",
    "<table>\n",
    "<thead>\n",
    "<tr class=\"header\">\n",
    "<th><strong>Test Code</strong></th>\n",
    "<th><strong>Output</strong></th>\n",
    "</tr>\n",
    "</thead>\n",
    "<tbody>\n",
    "<tr class=\"odd\">\n",
    "\n",
    "<td><p>town = Town(\"Sofia\")<br>town.set_latitude(\"42° 41\\' 51.04\\\" N\")<br>town.set_longitude(\"23° 19\\' 26.94\\\" E\")<br>print(town)</p></td>\n",
    "\n",
    "<td><strong>Town: Sofia | Latitude: 42° 41' 51.04\" N | Longitude: 23° 19' 26.94\" E</strong></td>\n",
    "</tr>\n",
    "</tbody>\n",
    "</table>"
   ],
   "metadata": {
    "collapsed": false
   }
  },
  {
   "cell_type": "code",
   "execution_count": null,
   "outputs": [],
   "source": [],
   "metadata": {
    "collapsed": false,
    "pycharm": {
     "name": "#%%\n"
    }
   }
  },
  {
   "cell_type": "markdown",
   "source": [
    "5.Class\n",
    "==\n",
    "-----\n",
    "\n",
    "Create a **class Class**. The **\\_\\_init\\_\\_** method should receive the\n",
    "**name** of the class. It should also have **2 lists** (**students** and\n",
    "**grades**). Create a **class attribute \\_\\_students\\_count** equal to\n",
    "**22**. The class should also have **3 additional methods**:\n",
    "\n",
    "-   **add\\_student(name, grade)** - if there is **space** in the class,\n",
    "    **add** the **student** and the **grade** in the two lists\n",
    "\n",
    "-   **get\\_average\\_grade()** - returns the **average** of all existing\n",
    "    **grades** formatted to the **second decimal** point (as a\n",
    "    **number**)\n",
    "\n",
    "-   **\\_\\_repr\\_\\_** - returns the string (**single line**): **\"The\n",
    "    students in {class\\_name}: {students}. Average grade:\n",
    "    {get\\_average\\_grade()}\".** The students must be seperated by **\",\n",
    "    \"**\n",
    "\n",
    "### Example\n",
    "\n",
    "<table>\n",
    "<thead>\n",
    "<tr class=\"header\">\n",
    "<th><strong>Test Code</strong></th>\n",
    "<th><strong>Output</strong></th>\n",
    "</tr>\n",
    "</thead>\n",
    "<tbody>\n",
    "<tr class=\"odd\">\n",
    "\n",
    "<td><p>a_class = Class(\"11B\")<br>a_class.add_student(\"Peter\", 4.80)<br>a_class.add_student(\"George\", 6.00)<br>a_class.add_student(\"Amy\", 3.50)<br>print(a_class)</p></td>\n",
    "\n",
    "<td><strong>The students in 11B: Peter, George, Amy. Average grade: 4.77</strong></td>\n",
    "</tr>\n",
    "</tbody>\n",
    "</table>"
   ],
   "metadata": {
    "collapsed": false
   }
  },
  {
   "cell_type": "code",
   "execution_count": null,
   "outputs": [],
   "source": [],
   "metadata": {
    "collapsed": false,
    "pycharm": {
     "name": "#%%\n"
    }
   }
  },
  {
   "cell_type": "markdown",
   "source": [
    "6.Inventory\n",
    "==\n",
    "---------\n",
    "\n",
    "Create a **class Inventory**. The **\\_\\_init\\_\\_** method should accept\n",
    "only the **capacity** of the inventory. The capacity should be a\n",
    "**private attribute** (**\\_\\_capacity**). You can read more about\n",
    "private attributes [<span\n",
    "class=\"underline\">here</span>](https://www.tutorialsteacher.com/python/private-and-protected-access-modifiers-in-python).\n",
    "Each inventory should also have an attribute called **items**, where all\n",
    "the items will be stored. The class should also have **3 methods**:\n",
    "\n",
    "-   **add\\_item(item)** - adds the item in the inventory if there is\n",
    "    space for it. Otherwise, returns  \n",
    "    **\"not enough room in the inventory\"**\n",
    "\n",
    "-   **get\\_capacity()** - returns the value of **\\_\\_capacity**\n",
    "\n",
    "-   **\\_\\_repr\\_\\_()** - returns **\"Items: {items}.\\\\nCapacity left:\n",
    "    {left\\_capacity}\"**. The items should be separated by **\", \"**\n",
    "\n",
    "### Example\n",
    "\n",
    "<table>\n",
    "<thead>\n",
    "<tr class=\"header\">\n",
    "<th><strong>Test Code</strong></th>\n",
    "<th><strong>Output</strong></th>\n",
    "</tr>\n",
    "</thead>\n",
    "<tbody>\n",
    "<tr class=\"odd\">\n",
    "\n",
    "<td><p>inventory = Inventory(2)<br>inventory.add_item(\"potion\")<br>inventory.add_item(\"sword\")<br>inventory.add_item(\"bottle\")<br>print(inventory.get_capacity())<br>print(inventory)</p></td>\n",
    "\n",
    "<td><p><strong>not enough room in the inventory</strong></p>\n",
    "<p><strong>2</strong></p>\n",
    "<p><strong>Items: potion, sword.</strong></p>\n",
    "<p><strong>Capacity left: 0</strong></p></td>\n",
    "</tr>\n",
    "</tbody>\n",
    "</table>"
   ],
   "metadata": {
    "collapsed": false
   }
  },
  {
   "cell_type": "code",
   "execution_count": null,
   "outputs": [],
   "source": [],
   "metadata": {
    "collapsed": false,
    "pycharm": {
     "name": "#%%\n"
    }
   }
  },
  {
   "cell_type": "markdown",
   "source": [
    "7.Articles\n",
    "==\n",
    "--------\n",
    "\n",
    "Create a **class Article**. The **\\_\\_init\\_\\_** method should accept\n",
    "**3 arguments**: **title**, **content**, **author**. The class should\n",
    "also have **4 methods**:\n",
    "\n",
    "-   **edit(new\\_content)** - changes the old content to the new one\n",
    "\n",
    "-   **change\\_author(new\\_author)** - changes the old author to with the\n",
    "    new one\n",
    "\n",
    "-   **rename(new\\_title)** - changes the old title with the new one\n",
    "\n",
    "-   **\\_\\_repr\\_\\_()** - returns the following string **\"{title} -\n",
    "    {content}: {author}\"**\n",
    "\n",
    "### Example\n",
    "\n",
    "<table>\n",
    "<thead>\n",
    "<tr class=\"header\">\n",
    "<th><strong>Test Code</strong></th>\n",
    "<th><strong>Output</strong></th>\n",
    "</tr>\n",
    "</thead>\n",
    "<tbody>\n",
    "<tr class=\"odd\">\n",
    "\n",
    "<td><p>article = Article(\"some title\", \"some content\", \"some author\")<br>article.edit(\"new content\")<br>article.rename(\"new title\")<br>article.change_author(\"new author\")<br>print(article)</p></td>\n",
    "\n",
    "<td><strong>new title - new content: new author</strong></td>\n",
    "</tr>\n",
    "</tbody>\n",
    "</table>"
   ],
   "metadata": {
    "collapsed": false
   }
  },
  {
   "cell_type": "code",
   "execution_count": null,
   "outputs": [],
   "source": [],
   "metadata": {
    "collapsed": false,
    "pycharm": {
     "name": "#%%\n"
    }
   }
  },
  {
   "cell_type": "markdown",
   "source": [
    "\\*8. Vehicle\n",
    "==\n",
    "----------\n",
    "\n",
    "Create a **class Vehicle**. The **\\_\\_init\\_\\_** method should receive:\n",
    "**typ**e, **model**, **price**. You should also set the **owner** to\n",
    "**None**. The class should have the following methods:\n",
    "\n",
    "-   **buy(money, owner)** - if the person **has enough money** and the\n",
    "    vehicle has **no owner**, returns: **\"Successfully bought a {type}.\n",
    "    Change: {change}\"** and **sets** the **owner** to the given one. If\n",
    "    the **money is not enough**, return: **\"Sorry, not enough money\"**.\n",
    "    If the car **already has** an **owner**, return: **\"Car already\n",
    "    sold\"**\n",
    "\n",
    "-   **sell()** - if the car **has an owner**, set it to **None** again.\n",
    "    Otherwise, return: **\"Vehicle has no owner**\"\n",
    "\n",
    "-   **\\_\\_repr\\_\\_()** - returns **\"{model} {type} is owned by:\n",
    "    {owner}\"** if the vehicle **has** an **owner**. Otherwise, return:\n",
    "    **\"{model} {type} is on sale: {price}\"**\n",
    "\n",
    "### Example\n",
    "\n",
    "<table>\n",
    "<thead>\n",
    "<tr class=\"header\">\n",
    "<th><strong>Test Code</strong></th>\n",
    "<th><strong>Output</strong></th>\n",
    "</tr>\n",
    "</thead>\n",
    "<tbody>\n",
    "<tr class=\"odd\">\n",
    "\n",
    "<td><p>vehicle_type = \"car\"<br>model = \"BMW\"<br>price = 30000<br>vehicle = Vehicle(vehicle_type, model, price)</p>\n",
    "\n",
    "<td><p><strong>Sorry, not enough money</strong></p>\n",
    "<p><strong>Successfully bought a car. Change: 5000.00</strong></p>\n",
    "<p><strong>BMW car is owned by: George</strong></p>\n",
    "<p><strong>BMW car is on sale: 30000</strong></p></td>\n",
    "</tr>\n",
    "</tbody>\n",
    "</table>"
   ],
   "metadata": {
    "collapsed": false
   }
  },
  {
   "cell_type": "code",
   "execution_count": null,
   "outputs": [],
   "source": [],
   "metadata": {
    "collapsed": false,
    "pycharm": {
     "name": "#%%\n"
    }
   }
  },
  {
   "cell_type": "markdown",
   "source": [
    "\\*9. Movie\n",
    "==\n",
    "--------\n",
    "\n",
    "Create a **class Movie**. The **\\_\\_init\\_\\_** method should receive a\n",
    "**name** and **director**. It should also have default value of an\n",
    "attribute **watched** to be **False**. There should also be a class\n",
    "attribute **\\_\\_watched\\_movies** which will keep track of all the\n",
    "watched movies. The class should have the following methods:\n",
    "\n",
    "-   **change\\_name(new\\_name)** - changes the name of the movie\n",
    "\n",
    "-   **change\\_director(new\\_director)** - changes the director of the\n",
    "    movie\n",
    "\n",
    "-   **watch()** - change the **watched** attribute to **True** and\n",
    "    **increase** the **total watched** movies class attribute (if the\n",
    "    movie **is not already watched**)\n",
    "\n",
    "-   **\\_\\_repr\\_\\_()** - returns **\"Movie name: {name}; Movie director:\n",
    "    {director}. Total watched movies: {\\_\\_wached\\_movies}\"**\n",
    "\n",
    "### Example\n",
    "\n",
    "<table>\n",
    "<thead>\n",
    "<tr class=\"header\">\n",
    "<th><strong>Test Code</strong></th>\n",
    "<th><strong>Output</strong></th>\n",
    "</tr>\n",
    "</thead>\n",
    "<tbody>\n",
    "<tr class=\"odd\">\n",
    "\n",
    "<td><p>first_movie = Movie(\"Inception\", \"Christopher Nolan\")<br>second_movie = Movie(\"The Matrix\", \"The Wachowskis\")<br>third_movie = Movie(\"The Predator\", \"Shane Black\")<br>first_movie.change_director(\"Me\")<br>third_movie.change_name(\"My Movie\")<br>first_movie.watch()<br>third_movie.watch()<br>first_movie.watch()<br>print(first_movie)<br>print(second_movie)<br>print(third_movie)</p></td>\n",
    "\n",
    "<td><p><strong>Movie name: Inception; Movie director: Me. Total watched movies: 2</strong></p>\n",
    "<p><strong>Movie name: The Matrix; Movie director: The Wachowskis. Total watched movies: 2</strong></p>\n",
    "<p><strong>Movie name: My Movie; Movie director: Shane Black. Total watched movies: 2</strong></p></td>\n",
    "</tr>\n",
    "</tbody>\n",
    "</table>"
   ],
   "metadata": {
    "collapsed": false
   }
  },
  {
   "cell_type": "code",
   "execution_count": null,
   "outputs": [],
   "source": [],
   "metadata": {
    "collapsed": false,
    "pycharm": {
     "name": "#%%\n"
    }
   }
  }
 ],
 "nbformat": 4,
 "nbformat_minor": 5,
 "metadata": {}
}