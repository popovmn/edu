{
 "cells": [
  {
   "attachments": {},
   "cell_type": "markdown",
   "metadata": {},
   "source": [
    "\n",
    "<a href=\"#zadacha1\">Задача 1</a>\n",
    "</br>\n",
    "<a href=\"#zadacha2\">Задача 2</a>\n",
    "</br>\n",
    "<a href=\"#zadacha3\">Задача 3</a>\n",
    "</br>\n",
    "<a href=\"#zadacha4\">Задача 4</a>\n",
    "</br>\n",
    "\n",
    "<img src=\"https://softuni.bg/content/images/svg-logos/software-university-logo.svg\" style=\"width:7.24653in;height:1.75556in\" />\n",
    "\n",
    "Упражнение: Първи стъпки в програмирането\n",
    "=========================================\n",
    "Задачи за упражнение в клас и за домашно към курса [\"Основи на\n",
    "програмирането\" @\n",
    "СофтУни](https://softuni.bg/courses/programming-basics).\n",
    "\n",
    "Тествайте решенията си в **judge системата**:\n",
    "<https://judge.softuni.bg/Contests/Compete/Index/1010>\n",
    "<div id=\"zadacha1\">\n",
    "\n",
    "1.Конзолна програма \"Hello SoftUni\"\n",
    "---------------------------------\n",
    "---\n",
    "Напишете **конзолна Python програма**, която отпечатва текста\n",
    "\"**HelloSoftUni**\".\n",
    "\n",
    "1.  Стартирайте PyCharm\n",
    "2.  Създайте нов проект: \\[Create New Project\\] \\[Въведете име и място\\]\n",
    "    \\[Create\\]\n",
    "3.  Създаване на нов файл: \\[Десен бутон върху името на проекта\\]\n",
    "    \\[New\\] \\[Python File\\]\n",
    "4.  \\[Въведете името на файла. Например \"Hello-SoftUni\"\\]\n",
    "5.  В началото на файла си напишете програмния код (командите) на езика\n",
    "    Python\n",
    "6.  Напишете следния програмен код (команда за печатане на текста \"Hello\n",
    "    SoftUni\"):\n",
    "|                        |\n",
    "|------------------------|\n",
    "| print('Hello SoftUni') |\n",
    "\n",
    "7.  Стартирайте програмата с натискане на \\[Alt+Shift+F10\\] или десен\n",
    "8.  В долната част на средата за разработка ще получите следния\n",
    "    резултат:\n",
    "9.  Тествайте решението на тази задача в онлайн judge системата на\n",
    "    СофтУни. За целта първо отворете\n",
    "    <https://judge.softuni.bg/Contests/Compete/Index/1010#0>. Влезте с\n",
    "    вашия акаунт в СофтУни. Ще се появи прозорец за изпращане на решения\n",
    "    за задача \"Hello SoftUni\". Копирайте сорс кода от средата за\n",
    "    разработка и го поставете в полето за изпращане на решения. Изберете\n",
    "    \"Python code\" от падащото меню:\n",
    "10.  Изпратете решението за оценяване с бутона \\[Submit\\]. Ще получите\n",
    "    резултата след няколко секунди в таблицата с изпратени решения в\n",
    "    judge системата:\n",
    "    https://judge.softuni.bg/Contests/Compete/Index/1010#0"
   ]
  },
  {
   "cell_type": "code",
   "execution_count": 6,
   "metadata": {
    "pycharm": {
     "name": "#%%\n"
    }
   },
   "outputs": [
    {
     "name": "stdout",
     "output_type": "stream",
     "text": [
      "Hello SoftUni\n"
     ]
    }
   ],
   "source": [
    "print('Hello SoftUni')\n"
   ]
  },
  {
   "cell_type": "markdown",
   "metadata": {
    "pycharm": {
     "name": "#%% md\n"
    }
   },
   "source": [
    "<div id=\"zadacha2\">\n",
    "\n",
    "2.Конзолна програма \"Expression\"\n",
    "--\n",
    "---\n",
    "Напишете **конзолна Python програма**, която пресмята и отпечатва\n",
    "стойността на следния **числен израз**:\n",
    "\n",
    "|                                                          |\n",
    "|----------------------------------------------------------|\n",
    "| (3522 + 52353) \\* 23 - (2336 \\* 501 + 23432 - 6743) \\* 3 |\n",
    "\n",
    "Забележка: не е разрешено да се пресметне стойността предварително\n",
    "(например с Windows Calculator).\n",
    "1.  Направете нов **Python** файл с име \"**Expression**\".\n",
    "2.  Напишете кода, който да изчисли горния числен израз и да отпечата на\n",
    "    конзолата стойността му. Подайте горния числен израз в скобите на\n",
    "    командата **print()**:\n",
    "\n",
    "|                                                                     |\n",
    "|---------------------------------------------------------------------|\n",
    "| **print((3522 + 52353) \\* 23 - (2336 \\* 501 + 23432 - 6743) \\* 3)** |\n",
    "\n",
    "3.  Стартирайте програмата с **\\[Ctrl+Shift+F10\\]** и проверете дали\n",
    "    вашият резултат е същият като следния:\n",
    "4.  Тествайте вашата програма в judge системата:\n",
    "    <https://judge.softuni.bg/Contests/Compete/Index/1010#1>\n",
    "</div>"
   ]
  },
  {
   "cell_type": "code",
   "execution_count": 7,
   "metadata": {
    "pycharm": {
     "name": "#%%\n"
    }
   },
   "outputs": [
    {
     "name": "stdout",
     "output_type": "stream",
     "text": [
      "-2275950\n"
     ]
    }
   ],
   "source": [
    "print((3522 + 52353) * 23 - (2336 * 501 + 23432 - 6743) * 3)"
   ]
  },
  {
   "cell_type": "markdown",
   "metadata": {
    "pycharm": {
     "name": "#%% md\n"
    }
   },
   "source": [
    "<div id=\"zadacha3\">\n",
    "\n",
    "3.Числата от 1 до 10\n",
    "--\n",
    "---\n",
    "\n",
    "Напишете **Python** конзолна програма, която отпечатва числата от 1 до\n",
    "10 на отделни редове на конзолата.\n",
    "\n",
    "1.  Напишете 10 команди **print()**, една след друга, за да отпечатате\n",
    "    числата от 1 до 10.\n",
    "2.  **Тествайте** вашето решение на задачата в judge системата:\n",
    "    <https://judge.softuni.bg/Contests/Compete/Index/1010#2>\n",
    "3.  Можете ли да напишете програмата по **по-умен начин**, така че да не\n",
    "    повтаряте 20 пъти една и съща команда? Потърсете в Интернет\n",
    "    информация за \"[**for loop\n",
    "    Python**](https://www.google.com/search?q=for+loop+python)\"."
   ]
  },
  {
   "cell_type": "code",
   "execution_count": 8,
   "metadata": {
    "pycharm": {
     "name": "#%%\n"
    }
   },
   "outputs": [
    {
     "name": "stdout",
     "output_type": "stream",
     "text": [
      "1\n",
      "2\n",
      "3\n",
      "4\n",
      "5\n",
      "6\n",
      "7\n",
      "8\n",
      "9\n",
      "10\n"
     ]
    }
   ],
   "source": [
    "# Idioted\n",
    "print(1)\n",
    "print(2)\n",
    "print(3)\n",
    "print(4)\n",
    "print(5)\n",
    "print(6)\n",
    "print(7)\n",
    "print(8)\n",
    "print(9)\n",
    "print(10)"
   ]
  },
  {
   "cell_type": "code",
   "execution_count": 9,
   "metadata": {
    "pycharm": {
     "name": "#%%\n"
    }
   },
   "outputs": [
    {
     "name": "stdout",
     "output_type": "stream",
     "text": [
      "1\n",
      "2\n",
      "3\n",
      "4\n",
      "5\n",
      "6\n",
      "7\n",
      "8\n",
      "9\n",
      "10\n"
     ]
    }
   ],
   "source": [
    "# Advanced\n",
    "for i in range(1, 11):\n",
    "    print(i)"
   ]
  },
  {
   "cell_type": "markdown",
   "metadata": {
    "pycharm": {
     "name": "#%% md\n"
    }
   },
   "source": [
    "<div id=\"zadacha4\">\n",
    "\n",
    "4.Лице на правоъгълник\n",
    "--\n",
    "---\n",
    "\n",
    "Напишете **Python** програма, която прочита от конзолата две числа **a**\n",
    "и **b**, пресмята и отпечатва **лицето на правоъгълник** със страни\n",
    "**a** и **b**.\n",
    "\n",
    "**Примерен вход и изход**\n",
    "\n",
    "| **a** | **b** | **area** |\n",
    "|-------|-------|----------|\n",
    "| 2     | 7     | 14       |\n",
    "| 7     | 8     | 56       |\n",
    "| 12    | 5     | 60       |\n",
    "\n",
    "1.  Направете конзолна **Python** програма. За да прочетете двете числа,\n",
    "    използвайте следния код:\n",
    "\n",
    "<table>\n",
    "<tbody>\n",
    "<tr class=\"odd\">\n",
    "<td><p>a = 2</p>\n",
    "<p>b = 7</p>\n",
    "<p>area = a * b</p>\n",
    "<p>print(area)</p></td>\n",
    "</tr>\n",
    "</tbody>\n",
    "</table>\n",
    "\n",
    "1.  Тествайте решението си в judge системата.\n",
    "<https://judge.softuni.bg/Contests/Compete/Index/1010#3>"
   ]
  },
  {
   "cell_type": "code",
   "execution_count": 12,
   "metadata": {
    "pycharm": {
     "name": "#%%\n"
    }
   },
   "outputs": [
    {
     "name": "stdout",
     "output_type": "stream",
     "text": [
      "14.0\n"
     ]
    }
   ],
   "source": [
    "a = float(input())\n",
    "b = float(input())\n",
    "area = a * b\n",
    "print(area)"
   ]
  }
 ],
 "metadata": {
  "kernelspec": {
   "display_name": "Python 3",
   "language": "python",
   "name": "python3"
  },
  "language_info": {
   "codemirror_mode": {
    "name": "ipython",
    "version": 3
   },
   "file_extension": ".py",
   "mimetype": "text/x-python",
   "name": "python",
   "nbconvert_exporter": "python",
   "pygments_lexer": "ipython3",
   "version": "3.8.1"
  }
 },
 "nbformat": 4,
 "nbformat_minor": 5
}