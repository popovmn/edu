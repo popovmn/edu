{
 "cells": [
  {
   "cell_type": "markdown",
   "metadata": {
    "collapsed": true,
    "pycharm": {
     "name": "#%% md\n"
    }
   },
   "source": [
    "# 1.\tReverse Strings\n",
    "\n",
    "Write program that:\n",
    "\n",
    "--Reads an input string\n",
    "Reverses it using a stack\n",
    "\n",
    "--Prints the result back at the terminal\n",
    "\n",
    "\n",
    "Examples"
   ]
  },
  {
   "cell_type": "markdown",
   "metadata": {},
   "source": [
    "IO:\n",
    "\n",
    "nohtyP evoL I\n",
    "\n",
    "I Love Python"
   ]
  },
  {
   "cell_type": "markdown",
   "metadata": {},
   "source": [
    "IO:\n",
    "\n",
    "seueuQ dna skcatS\n",
    "\n",
    "Stacks and Queues\n"
   ]
  },
  {
   "cell_type": "code",
   "execution_count": 12,
   "metadata": {
    "pycharm": {
     "name": "#%%\n"
    }
   },
   "outputs": [
    {
     "name": "stdout",
     "output_type": "stream",
     "text": [
      "321\n"
     ]
    }
   ],
   "source": [
    "string = input()\n",
    "print(\"\".join(reversed(string)))\n",
    "\n"
   ]
  },
  {
   "cell_type": "code",
   "execution_count": 13,
   "metadata": {
    "pycharm": {
     "name": "#%%\n"
    }
   },
   "outputs": [
    {
     "name": "stdout",
     "output_type": "stream",
     "text": [
      "321\n"
     ]
    }
   ],
   "source": [
    "string = list(input())\n",
    "s = []\n",
    "for i in range(len(string)):\n",
    "    s.append(string.pop())\n",
    "print(\"\".join(s))\n",
    "\n"
   ]
  },
  {
   "cell_type": "code",
   "execution_count": 14,
   "metadata": {
    "pycharm": {
     "name": "#%%\n"
    }
   },
   "outputs": [
    {
     "name": "stdout",
     "output_type": "stream",
     "text": [
      "321"
     ]
    }
   ],
   "source": [
    "def start(usr_in):\n",
    "    while usr_in:\n",
    "        print(usr_in.pop(), end='')\n",
    "\n",
    "\n",
    "user_input = list(input())\n",
    "\n",
    "if __name__ == \"__main__\":\n",
    "    start(user_input)\n",
    "\n"
   ]
  },
  {
   "cell_type": "code",
   "execution_count": 15,
   "metadata": {
    "pycharm": {
     "name": "#%%\n"
    }
   },
   "outputs": [
    {
     "name": "stdout",
     "output_type": "stream",
     "text": [
      "321\n"
     ]
    }
   ],
   "source": [
    "print(input()[::-1])"
   ]
  }
 ],
 "metadata": {
  "kernelspec": {
   "display_name": "Python 3",
   "language": "python",
   "name": "python3"
  },
  "language_info": {
   "codemirror_mode": {
    "name": "ipython",
    "version": 3
   },
   "file_extension": ".py",
   "mimetype": "text/x-python",
   "name": "python",
   "nbconvert_exporter": "python",
   "pygments_lexer": "ipython3",
   "version": "3.8.1"
  }
 },
 "nbformat": 4,
 "nbformat_minor": 1
}
