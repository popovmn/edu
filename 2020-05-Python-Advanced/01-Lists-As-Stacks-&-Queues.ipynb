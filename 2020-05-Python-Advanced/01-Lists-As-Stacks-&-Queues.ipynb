{
 "cells": [
  {
   "cell_type": "markdown",
   "source": [
    "Lab: Lists as Stacks and Queues\n",
    "================================\n",
    "Problems for in-class lab for the [Python Advanced Course\n",
    "@SoftUni](https://softuni.bg/courses/python-advanced). Submit your\n",
    "solutions in the SoftUni judge system at\n",
    "<https://judge.softuni.bg/Contests/1830>\n",
    "\n",
    "1.Reverse Strings\n",
    "==\n",
    "------------------\n",
    "Write program that:\n",
    "-   **Reads** an **input string**\n",
    "-   **Reverses** it **using a stack**\n",
    "-   **Prints** the result back at the terminal\n",
    "\n",
    "### Examples\n",
    " **Input** | **Output**\n",
    "-|-\n",
    " I Love Python | nohtyP evoL I\n",
    " Stacks and Queues | seueuQ dna skcatS"
   ],
   "metadata": {
    "collapsed": false
   }
  },
  {
   "cell_type": "code",
   "execution_count": 6,
   "outputs": [
    {
     "name": "stdout",
     "output_type": "stream",
     "text": [
      "seueuQ dna skcatS\n"
     ]
    }
   ],
   "source": [
    "string = input()\n",
    "print(\"\".join(reversed(string)))"
   ],
   "metadata": {
    "collapsed": false,
    "pycharm": {
     "name": "#%%\n"
    }
   }
  },
  {
   "cell_type": "code",
   "execution_count": 3,
   "outputs": [
    {
     "name": "stdout",
     "output_type": "stream",
     "text": [
      "nohtyP evoL I\n"
     ]
    }
   ],
   "source": [
    "string = list(input())\n",
    "s = []\n",
    "for i in range(len(string)):\n",
    "    s.append(string.pop())\n",
    "print(\"\".join(s))"
   ],
   "metadata": {
    "collapsed": false,
    "pycharm": {
     "name": "#%%\n"
    }
   }
  },
  {
   "cell_type": "code",
   "execution_count": 4,
   "outputs": [
    {
     "name": "stdout",
     "output_type": "stream",
     "text": [
      "nohtyP evoL I"
     ]
    }
   ],
   "source": [
    "def start(usr_in):\n",
    "    while usr_in:\n",
    "        print(usr_in.pop(), end='')\n",
    "\n",
    "\n",
    "user_input = list(input())\n",
    "\n",
    "if __name__ == \"__main__\":\n",
    "    start(user_input)"
   ],
   "metadata": {
    "collapsed": false,
    "pycharm": {
     "name": "#%%\n"
    }
   }
  },
  {
   "cell_type": "code",
   "execution_count": 5,
   "outputs": [
    {
     "name": "stdout",
     "output_type": "stream",
     "text": [
      "nohtyP evoL I\n"
     ]
    }
   ],
   "source": [
    "print(input()[::-1])"
   ],
   "metadata": {
    "collapsed": false,
    "pycharm": {
     "name": "#%%\n"
    }
   }
  },
  {
   "cell_type": "markdown",
   "source": [
    "2.Matching Brackets\n",
    "---------------\n",
    "We are given an arithmetic expression with brackets. Scan through the\n",
    "string and extract each sub-expression.\n",
    "Print the result back at the terminal.\n",
    "\n",
    "### Examples\n",
    "\n",
    "<table>\n",
    "<thead>\n",
    "<tr class=\"header\">\n",
    "<th><strong>Input</strong></th>\n",
    "<th><strong>Output</strong></th>\n",
    "</tr>\n",
    "</thead>\n",
    "<tbody>\n",
    "<tr class=\"odd\">\n",
    "<td><strong>1 + (2 - (2 + 3) * 4 / (3 + 1)) * 5</strong></td>\n",
    "\n",
    "<td><p><strong>(2 + 3)</strong></p>\n",
    "\n",
    "<p><strong>(3 + 1)</strong></p>\n",
    "\n",
    "<p><strong>(2 - (2 + 3) * 4 / (3 + 1))</strong></p></td>\n",
    "\n",
    "</tr>\n",
    "<tr class=\"even\">\n",
    "<td><strong>(2 + 3) - (2 + 3)</strong></td>\n",
    "<td><p><strong>(2 + 3)</strong></p>\n",
    "<p><strong>(2 + 3)</strong></p></td>\n",
    "</tr>\n",
    "</tbody>\n",
    "</table>\n",
    "\n",
    "### Hints\n",
    "\n",
    "-   Scan through the expression searching for brackets\n",
    "    -   If you find an **opening** **bracket**, **push** the index into\n",
    "        the stack\n",
    "    -   If you find a **closing** **bracket** **pop** the topmost\n",
    "        element from the stack. This is the index of the opening\n",
    "        bracket.\n",
    "    -   Use the current and the popped index to **extract** the\n",
    "        sub-expression"
   ],
   "metadata": {
    "collapsed": false,
    "pycharm": {
     "name": "#%% md\n"
    }
   }
  },
  {
   "cell_type": "code",
   "execution_count": 7,
   "outputs": [
    {
     "name": "stdout",
     "output_type": "stream",
     "text": [
      "(2 + 3)\n",
      "(3 + 1)\n",
      "(2 - (2 + 3) * 4 / (3 + 1))\n"
     ]
    }
   ],
   "source": [
    "def mb(exp):\n",
    "    temp_start_index = []\n",
    "    expressions = []\n",
    "    for i in range(len(exp)):\n",
    "        char = exp[i]\n",
    "        if char == \"(\":\n",
    "            temp_start_index.append(i)\n",
    "        elif char == \")\":\n",
    "            start = temp_start_index.pop()\n",
    "            end = i\n",
    "            expressions.append(exp[start:end + 1])\n",
    "    return expressions\n",
    "\n",
    "\n",
    "if __name__ == \"__main__\":\n",
    "    [print(e) for e in mb(input())]"
   ],
   "metadata": {
    "collapsed": false,
    "pycharm": {
     "name": "#%%\n"
    }
   }
  },
  {
   "cell_type": "code",
   "execution_count": 8,
   "outputs": [
    {
     "name": "stdout",
     "output_type": "stream",
     "text": [
      "(2 + 3)\n",
      "(3 + 1)\n",
      "(2 - (2 + 3) * 4 / (3 + 1))\n"
     ]
    }
   ],
   "source": [
    "def foo(expression):\n",
    "    result = []\n",
    "    temp = []\n",
    "    for i in range(len(expression)):\n",
    "        if expression[i] == \"(\":\n",
    "            temp.append(i)\n",
    "        if expression[i] == \")\":\n",
    "            start = temp.pop()\n",
    "            end = i\n",
    "            result.append(expression[start:end + 1])\n",
    "    return result\n",
    "\n",
    "\n",
    "exp = '1 + (2 - (2 + 3) * 4 / (3 + 1)) * 5'\n",
    "if __name__ == \"__main__\":\n",
    "    [print(e) for e in foo(exp)]"
   ],
   "metadata": {
    "collapsed": false,
    "pycharm": {
     "name": "#%%\n"
    }
   }
  },
  {
   "cell_type": "markdown",
   "source": [
    "3.Supermarket\n",
    "-----------\n",
    "\n",
    "Write a program that **reads** an **input** consisting of a **name** and\n",
    "**adds** it to a **queue** until \"**End**\" is received. If you receive\n",
    "\"**Paid**\", **print** every customer name and empty the queue, otherwise\n",
    "we receive a client and we have to add him to the queue. When we receive\n",
    "**\"End\"** we have to print the count of the remaining people in the\n",
    "queue in the format: \"**{count} people remaining.\"**\n",
    "\n",
    "### Examples\n",
    "<table>\n",
    "<thead>\n",
    "<tr class=\"header\">\n",
    "<th><strong>Input</strong></th>\n",
    "<th><strong>Output</strong></th>\n",
    "</tr>\n",
    "</thead>\n",
    "<tbody>\n",
    "\n",
    "<tr class=\"odd\">\n",
    "    <td><p> George<br>Peter<br>William<br>Paid<br>Michael<br>Oscar<br>Olivia<br>Linda<br>End </p></td>\n",
    "    <td><p> George<br>Peter<br>William<br>4 people remaining. </p></td>\n",
    "</tr>\n",
    "\n",
    "<tr class=\"even\">\n",
    "    <td><p><strong>Anna<br>Emma<br>Alexander<br>End </strong></p></td>\n",
    "    <td> 3 people remaining. </td>\n",
    "</tr>\n",
    "\n",
    "</tbody>\n",
    "</table>"
   ],
   "metadata": {
    "collapsed": false,
    "pycharm": {
     "name": "#%% md\n"
    }
   }
  },
  {
   "cell_type": "code",
   "execution_count": null,
   "outputs": [],
   "source": [
    "from collections import deque\n",
    "\n",
    "# creates empty queue named \"names\"\n",
    "names = deque()\n",
    "\n",
    "while True:\n",
    "    command = input()\n",
    "    if command == \"End\":\n",
    "        print(f\"{names.__len__()} people remaining.\")\n",
    "        break\n",
    "    elif command == \"Paid\":\n",
    "        # while we do have people in queue\n",
    "        while names:\n",
    "            print(names.popleft())\n",
    "    else:\n",
    "        names.append(command)"
   ],
   "metadata": {
    "collapsed": false,
    "pycharm": {
     "name": "#%%\n"
    }
   }
  },
  {
   "cell_type": "markdown",
   "source": [
    "4.Water Dispenser\n",
    "---------------\n",
    "\n",
    "Write a program that reads on the first line the starting **quantity**\n",
    "of water in a dispenser. Then on the next few lines you will be given\n",
    "the **names** of some people that want to **get water** (each on\n",
    "separate line) until you receive the command **\"Start\"**. Add those\n",
    "people in a **queue**. Finally, you will receive some commands until the\n",
    "command **\"End\"**:\n",
    "\n",
    "-   **{liters}** - Litters that the current person in the **queue**\n",
    "    wants to get. Check if there is **enough** water in the dispenser\n",
    "    for that person.\n",
    "\n",
    "    -   If there is enough water, print **\"{person\\_name} got water\"**\n",
    "        and remove him/her from the queue.\n",
    "\n",
    "    -   Otherwise, print **\"{person} must wait\"** and **remove the\n",
    "        person** from the queue **without reducing** the water in the\n",
    "        dispenser\n",
    "\n",
    "-   **refill {liters}** - add the given litters in the dispenser.\n",
    "\n",
    "At the end print how many litters of water are left in the format:\n",
    "**\"{left\\_liters} liters left\"**\n",
    "\n",
    "### Examples\n",
    "\n",
    "<table>\n",
    "    <thead>\n",
    "    <tr class=\"header\">\n",
    "        <th><strong>Input</strong></th>\n",
    "        <th><strong>Output</strong></th>\n",
    "        <th><strong>Comment</strong></th>\n",
    "    </tr>\n",
    "    </thead>\n",
    "    <tbody>\n",
    "        <tr class=\"odd\">\n",
    "            <td>\n",
    "                <p> 2<br>Peter<br>Amy<br>Start<br>2<br>refill 1<br>1<br>End </p>\n",
    "            </td>\n",
    "            <td>\n",
    "                <p> Peter got water<br>Amy got water<br>0 liters left </p>\n",
    "            </td>\n",
    "            <td>We create a queue with Peter and Amy. After the start command we see that Peter wants 2 liters of water (and he gets them). Water dispenser is left with 0 liters. After refulling, there is 1 liter in the dispenser. So when Amy wants 1 liter, she gets it and there are 0 liters left in the dispenser</td>\n",
    "        </tr>\n",
    "        <tr class=\"even\">\n",
    "            <td>\n",
    "                <p> 10<br>Peter<br>George<br>Amy<br>Alice<br>Start<br>2<br>3<br>3<br>3<br>End </p>\n",
    "            </td>\n",
    "            <td>\n",
    "                <p>Peter got water</p>\n",
    "                <p>George got water</p>\n",
    "                <p>Amy got water</p>\n",
    "                <p>Alice must wait</p>\n",
    "                <p>2 liters left</p>\n",
    "            </td>\n",
    "            <td></td>\n",
    "        </tr>\n",
    "    </tbody>\n",
    "</table>\n",
    "\n",
    "5.Hot Potato\n",
    "----------\n",
    "\n",
    "Hot potato is a game in which children form a circle and start passing a\n",
    "hot potato. The counting starts with the first kid. **Every\n",
    "n<sup>th</sup> toss the child left with the potato leaves the game**.\n",
    "When a kid leaves the game, it passes the potato along. This continues\n",
    "**until there is only one kid left**.\n",
    "\n",
    "Create a program that simulates the game of Hot Potato. **Print** every\n",
    "kid that is **removed** from the **circle**. In the end, **print** the\n",
    "kid that is left **last**.\n",
    "\n",
    "### Examples\n",
    "<table>\n",
    "<thead>\n",
    "<tr class=\"header\">\n",
    "<th><strong>Input</strong></th>\n",
    "<th><strong>Output</strong></th>\n",
    "</tr>\n",
    "</thead>\n",
    "<tbody>\n",
    "<tr class=\"odd\">\n",
    "<td><p>Tracy Emily Daniel<br>2</p></td>\n",
    "<td><p>Removed Emily</p>\n",
    "<p>Removed Tracy</p>\n",
    "<p>Last is Daniel</p></td>\n",
    "</tr>\n",
    "<tr class=\"even\">\n",
    "<td><p>George Peter Michael William Thomas<br>10</p></td>\n",
    "<td><p>Removed Thomas</p>\n",
    "<p>Removed Peter</p>\n",
    "<p>Removed Michael</p>\n",
    "<p>Removed George</p>\n",
    "<p>Last is William</p></td>\n",
    "</tr>\n",
    "<tr class=\"odd\">\n",
    "<td><p>George Peter Michael William Thomas<br>1</p></td>\n",
    "<td><p>Removed George</p>\n",
    "<p>Removed Peter</p>\n",
    "<p>Removed Michael</p>\n",
    "<p>Removed William</p>\n",
    "<p>Last is Thomas</p></td>\n",
    "</tr>\n",
    "</tbody>\n",
    "</table>"
   ],
   "metadata": {
    "collapsed": false,
    "pycharm": {
     "name": "#%% md\n"
    }
   }
  }
 ],
 "metadata": {
  "kernelspec": {
   "display_name": "Python 3",
   "language": "python",
   "name": "python3"
  },
  "language_info": {
   "codemirror_mode": {
    "name": "ipython",
    "version": 2
   },
   "file_extension": ".py",
   "mimetype": "text/x-python",
   "name": "python",
   "nbconvert_exporter": "python",
   "pygments_lexer": "ipython2",
   "version": "2.7.6"
  }
 },
 "nbformat": 4,
 "nbformat_minor": 0
}